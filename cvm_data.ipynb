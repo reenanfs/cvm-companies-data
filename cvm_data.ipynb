{
 "cells": [
  {
   "cell_type": "code",
   "execution_count": 2,
   "metadata": {},
   "outputs": [],
   "source": [
    "import os\n",
    "from zipfile import ZipFile\n",
    "import pandas as pd\n",
    "import requests\n"
   ]
  },
  {
   "cell_type": "markdown",
   "metadata": {},
   "source": [
    "# Download CVM data"
   ]
  },
  {
   "cell_type": "code",
   "execution_count": 3,
   "metadata": {},
   "outputs": [],
   "source": [
    "base_path = os.getcwd()\n",
    "download_path = os.path.join(base_path, 'cvm_data')\n",
    "base_url = 'https://dados.cvm.gov.br/dados/CIA_ABERTA/DOC/DFP/DADOS/'\n",
    "\n",
    "file_paths = []\n",
    "for year in range(2010,2022):\n",
    "    file_name = f'dfp_cia_aberta_{year}.zip'\n",
    "\n",
    "    response = requests.get(f'{base_url}{file_name}')\n",
    "\n",
    "    file_path = os.path.join(download_path, file_name)\n",
    "\n",
    "    with open(file_path, 'wb') as file:\n",
    "        file.write(response.content)\n",
    "    \n",
    "    file_paths.append(file_path)"
   ]
  },
  {
   "cell_type": "markdown",
   "metadata": {},
   "source": [
    "# Based on downloaded zip data, create dataframe"
   ]
  },
  {
   "cell_type": "code",
   "execution_count": 4,
   "metadata": {},
   "outputs": [],
   "source": [
    "\n",
    "\n",
    "financial_statements = []\n",
    "for file_path in file_paths:\n",
    "    zipped_file = ZipFile(file_path)\n",
    "\n",
    "    for financial_statement in zipped_file.namelist():\n",
    "        with zipped_file.open(financial_statement, 'r') as unzipped_file:\n",
    "            financial_statement = pd.read_csv(unzipped_file, delimiter=';', encoding='latin-1')\n",
    "            financial_statements.append(financial_statement)\n",
    "\n",
    "untreated_df = pd.concat(financial_statements)"
   ]
  },
  {
   "cell_type": "markdown",
   "metadata": {},
   "source": [
    "# Separate GRUPO_DFP column into TIPO_DF and NOME_DF"
   ]
  },
  {
   "cell_type": "code",
   "execution_count": 5,
   "metadata": {},
   "outputs": [],
   "source": [
    "untreated_df[['TIPO_DF', 'NOME_DF']] = untreated_df['GRUPO_DFP'].str.split('-', expand=True)\n",
    "untreated_df['TIPO_DF'] = untreated_df['TIPO_DF'].str.strip()\n",
    "untreated_df['NOME_DF'] = untreated_df['NOME_DF'].str.strip()\n",
    "treated_df = untreated_df.drop('GRUPO_DFP', axis=1)"
   ]
  },
  {
   "cell_type": "markdown",
   "metadata": {},
   "source": [
    "# Filter Dataframe"
   ]
  },
  {
   "cell_type": "code",
   "execution_count": 6,
   "metadata": {},
   "outputs": [
    {
     "name": "stderr",
     "output_type": "stream",
     "text": [
      "C:\\Users\\074245631\\AppData\\Local\\Temp\\ipykernel_27352\\3422477849.py:2: UserWarning: Boolean Series key will be reindexed to match DataFrame index.\n",
      "  treated_df = treated_df[untreated_df['TIPO_DF'] == 'DF Consolidado']\n"
     ]
    }
   ],
   "source": [
    "treated_df = treated_df[untreated_df['ORDEM_EXERC'] == 'ÚLTIMO']\n",
    "treated_df = treated_df[untreated_df['TIPO_DF'] == 'DF Consolidado']\n",
    "treated_df = treated_df[untreated_df['NOME_DF'] == 'Demonstração do Resultado']\n",
    "treated_df = treated_df[untreated_df['DENOM_CIA'] == 'WEG S.A.']\n",
    "treated_df = treated_df[untreated_df['DS_CONTA'] == 'Lucro/Prejuízo Consolidado do Período']"
   ]
  },
  {
   "cell_type": "markdown",
   "metadata": {},
   "source": [
    "# Show Dataframe"
   ]
  },
  {
   "cell_type": "code",
   "execution_count": null,
   "metadata": {},
   "outputs": [],
   "source": [
    "treated_df"
   ]
  }
 ],
 "metadata": {
  "kernelspec": {
   "display_name": "base",
   "language": "python",
   "name": "python3"
  },
  "language_info": {
   "codemirror_mode": {
    "name": "ipython",
    "version": 3
   },
   "file_extension": ".py",
   "mimetype": "text/x-python",
   "name": "python",
   "nbconvert_exporter": "python",
   "pygments_lexer": "ipython3",
   "version": "3.10.9"
  },
  "orig_nbformat": 4
 },
 "nbformat": 4,
 "nbformat_minor": 2
}
